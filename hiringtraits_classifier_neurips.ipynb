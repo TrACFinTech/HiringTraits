{
 "cells": [
  {
   "cell_type": "code",
   "execution_count": 6,
   "id": "08ea9cfe-a8f8-4500-9a9f-1cf0b097aadd",
   "metadata": {},
   "outputs": [],
   "source": [
    "###Importing the necessary libraries\n",
    "import pandas as pd\n",
    "import numpy as np\n",
    "from sklearn.model_selection import train_test_split, GridSearchCV, cross_val_score\n",
    "from sklearn.metrics import confusion_matrix, classification_report\n",
    "from sklearn.preprocessing import StandardScaler\n",
    "from sklearn.ensemble import RandomForestClassifier\n",
    "from sklearn.metrics import accuracy_score"
   ]
  },
  {
   "cell_type": "code",
   "execution_count": 21,
   "id": "86b990a9-47dd-4a9e-856c-94822f0a742e",
   "metadata": {},
   "outputs": [],
   "source": [
    "###Reading data, partitioning and scaling.\n",
    "df = pd.read_excel('/Users/souradeepchattopadhyay/Documents/neuripsbehaviorml/data1.xlsx')\n",
    "data = df[~df['Unnamed: 0'].str.startswith('pp')]\n",
    "y = data['RecommendHiring']\n",
    "y1 = (y >= y.median()).astype(int)\n",
    "X = data.iloc[:,[1,2,3,4,5]]\n",
    "X_train, X_test, y_train, y_test = train_test_split(X, y1, test_size=0.2, random_state = 2)\n",
    "scaler_x = StandardScaler()\n",
    "X_scaled = scaler_x.fit_transform(X)\n",
    "X_train_scaled = scaler_x.fit_transform(X_train)\n",
    "X_test_scaled = scaler_x.transform(X_test)"
   ]
  },
  {
   "cell_type": "code",
   "execution_count": 22,
   "id": "ee077516-5389-4ad9-a069-bd1e5d40d6db",
   "metadata": {},
   "outputs": [
    {
     "name": "stdout",
     "output_type": "stream",
     "text": [
      "Cross-validation scores: [0.57142857 0.57142857 0.64285714 0.85714286 0.53846154]\n",
      "Mean cross-validation accuracy: 0.64\n",
      "SD of cross-validation accuracy: 0.12\n",
      "Training set accuracy: 0.69\n",
      "Test set accuracy: 0.71\n"
     ]
    }
   ],
   "source": [
    "##Fitting random forest with hyperparameter tuning.\n",
    "rf = RandomForestClassifier(random_state=2)\n",
    "# Define the hyperparameter grid to tune\n",
    "param_grid = {\n",
    "    'n_estimators': [50, 100],\n",
    "    'max_depth': [None, 10, 20],\n",
    "    'min_samples_split': [2, 5],\n",
    "    'min_samples_leaf': [2, 4]\n",
    "    #'max_features': ['sqrt', 'log2']\n",
    "}\n",
    "grid_search = GridSearchCV(estimator=rf, param_grid=param_grid, cv=5, n_jobs=-1, verbose = 0)\n",
    "grid_search.fit(X_train_scaled, y_train)\n",
    "best_rf = grid_search.best_estimator_\n",
    "y_train_pred = best_rf.predict(X_train_scaled)\n",
    "training_accuracy = accuracy_score(y_train, y_train_pred)\n",
    "y_test_pred = best_rf.predict(X_test_scaled)\n",
    "cv_scores = cross_val_score(best_rf, X_scaled, y1, cv=5)\n",
    "accuracy = accuracy_score(y_test, y_test_pred)\n",
    "print(f\"Cross-validation scores: {cv_scores}\")\n",
    "print(f\"Mean cross-validation accuracy: {cv_scores.mean():.2f}\")\n",
    "print(f\"SD of cross-validation accuracy: {cv_scores.std():.2f}\")\n",
    "print(f\"Training set accuracy: {training_accuracy:.2f}\")\n",
    "print(f\"Test set accuracy: {accuracy:.2f}\")"
   ]
  },
  {
   "cell_type": "code",
   "execution_count": 23,
   "id": "681b6142-b26f-412b-8efe-9fda8fce1259",
   "metadata": {},
   "outputs": [
    {
     "data": {
      "text/html": [
       "<div>\n",
       "<style scoped>\n",
       "    .dataframe tbody tr th:only-of-type {\n",
       "        vertical-align: middle;\n",
       "    }\n",
       "\n",
       "    .dataframe tbody tr th {\n",
       "        vertical-align: top;\n",
       "    }\n",
       "\n",
       "    .dataframe thead th {\n",
       "        text-align: right;\n",
       "    }\n",
       "</style>\n",
       "<table border=\"1\" class=\"dataframe\">\n",
       "  <thead>\n",
       "    <tr style=\"text-align: right;\">\n",
       "      <th></th>\n",
       "      <th>Feature</th>\n",
       "      <th>Importance</th>\n",
       "    </tr>\n",
       "  </thead>\n",
       "  <tbody>\n",
       "    <tr>\n",
       "      <th>3</th>\n",
       "      <td>Agreeableness</td>\n",
       "      <td>0.345568</td>\n",
       "    </tr>\n",
       "    <tr>\n",
       "      <th>2</th>\n",
       "      <td>Extraversion</td>\n",
       "      <td>0.251476</td>\n",
       "    </tr>\n",
       "    <tr>\n",
       "      <th>0</th>\n",
       "      <td>Openness to Experience</td>\n",
       "      <td>0.220073</td>\n",
       "    </tr>\n",
       "    <tr>\n",
       "      <th>1</th>\n",
       "      <td>Conscientiousness</td>\n",
       "      <td>0.162355</td>\n",
       "    </tr>\n",
       "    <tr>\n",
       "      <th>4</th>\n",
       "      <td>Neuroticism</td>\n",
       "      <td>0.020528</td>\n",
       "    </tr>\n",
       "  </tbody>\n",
       "</table>\n",
       "</div>"
      ],
      "text/plain": [
       "                  Feature  Importance\n",
       "3           Agreeableness    0.345568\n",
       "2            Extraversion    0.251476\n",
       "0  Openness to Experience    0.220073\n",
       "1       Conscientiousness    0.162355\n",
       "4             Neuroticism    0.020528"
      ]
     },
     "execution_count": 23,
     "metadata": {},
     "output_type": "execute_result"
    }
   ],
   "source": [
    "#Calculating feature importances based on random forest.\n",
    "importances = best_rf.feature_importances_\n",
    "\n",
    "# Create a DataFrame for better visualization\n",
    "importance_df = pd.DataFrame({\n",
    "    'Feature': X_train.columns,\n",
    "    'Importance': importances\n",
    "}).sort_values(by='Importance', ascending=False)\n",
    "importance_df"
   ]
  },
  {
   "cell_type": "code",
   "execution_count": null,
   "id": "95392599-e8c9-4850-9788-57c230586e54",
   "metadata": {},
   "outputs": [],
   "source": []
  },
  {
   "cell_type": "code",
   "execution_count": null,
   "id": "e86c5417-f84c-435b-b4da-ce6428432b6d",
   "metadata": {},
   "outputs": [],
   "source": []
  },
  {
   "cell_type": "code",
   "execution_count": null,
   "id": "1095f2f5-1c39-44a3-b21e-b2e3a5463149",
   "metadata": {},
   "outputs": [],
   "source": []
  }
 ],
 "metadata": {
  "kernelspec": {
   "display_name": "Python 3 (ipykernel)",
   "language": "python",
   "name": "python3"
  },
  "language_info": {
   "codemirror_mode": {
    "name": "ipython",
    "version": 3
   },
   "file_extension": ".py",
   "mimetype": "text/x-python",
   "name": "python",
   "nbconvert_exporter": "python",
   "pygments_lexer": "ipython3",
   "version": "3.12.5"
  }
 },
 "nbformat": 4,
 "nbformat_minor": 5
}
